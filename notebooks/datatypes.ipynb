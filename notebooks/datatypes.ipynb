{
 "cells": [
  {
   "cell_type": "markdown",
   "metadata": {
    "slideshow": {
     "slide_type": "slide"
    }
   },
   "source": [
    "# Basic Data Types\n",
    "Here's a table of basic data types commonly found in modern programming languages like Python:\n",
    "| Data Type | Description | Example |\n",
    "|---|---|---|\n",
    "| Integer | Whole numbers, positive, negative, or zero. | 42, -10, 0 |\n",
    "| Floating-point | Numbers with decimal points for representing real numbers (approximations). | 3.14, -9.81, 1.23e-5 (scientific notation) |\n",
    "| Boolean | Logical values, True or False. | True, False |\n",
    "| Character | Single character (letter, number, symbol). | 'a', '!', '$' |\n",
    "| String | Sequence of characters, representing text. | \"Hello, world!\", \"This is a string.\", 'A string can also contain quotes' |\n"
   ]
  },
  {
   "cell_type": "code",
   "execution_count": null,
   "metadata": {
    "slideshow": {
     "slide_type": "slide"
    }
   },
   "outputs": [],
   "source": [
    "# Integer\n",
    "age = 30\n",
    "print(f\"My age is: {age}\")  # f-string for formatted printing\n",
    "\n",
    "# Floating-point\n",
    "pi = 3.14159\n",
    "distance = 1.23e2  # scientific notation for 123.0\n",
    "\n",
    "print(f\"Pi value: {pi:.4f}\")  # format to show 4 decimal places\n",
    "print(f\"Distance: {distance} km\")\n",
    "\n",
    "# Boolean\n",
    "is_raining = True\n",
    "print(f\"Is it raining? {is_raining}\")\n",
    "\n",
    "# Character\n",
    "initial = 'A'\n",
    "special_char = '$'\n",
    "\n",
    "print(f\"My initial: {initial}\")\n",
    "print(f\"Special character: {special_char}\")\n",
    "\n",
    "# String\n",
    "name = \"Bard\"\n",
    "greeting = \"Hello, \" + name + \"!\"  # String concatenation\n",
    "\n",
    "print(f\"Your name: {name}\")\n",
    "print(greeting)\n"
   ]
  },
  {
   "cell_type": "markdown",
   "metadata": {
    "slideshow": {
     "slide_type": "slide"
    }
   },
   "source": [
    "**Note**:\n",
    "\n",
    "The `f` in the `print()` function signifies a formatted string literal (f-string), a way to embed expressions directly inside strings introduced in Python 3.6.\n",
    "\n",
    "Here's how f-strings work:\n",
    "\n",
    "- An f-string is prefixed with `f` or `F` before the opening quotation mark.\n",
    "- You can place curly braces `{}` within the string to insert expressions or variables.\n",
    "- Python evaluates the expressions inside the curly braces and integrates them into the final string.\n",
    "\n",
    "In Python, the integer type `int` can be of any size, limited only by the available memory. The floating point type `float` is double precision 64-bit. There is no `char` type, a single character is actually a string `str` of length 1."
   ]
  },
  {
   "cell_type": "markdown",
   "metadata": {
    "slideshow": {
     "slide_type": "slide"
    }
   },
   "source": [
    "# Data Structures\n",
    "\n",
    "Data structures can be classified from two perspectives: logical structure and physical structure.\n",
    "\n",
    "- **Logical structure** describes the logical relationships between data elements. It focuses on how the data is organized and how it can be accessed.\n",
    "\n",
    "- **Physical structure** describes how data is stored in computer memory. It focuses on the physical layout of data and how it is stored on a storage device.\n",
    "\n",
    "If we focus on perspective of logical structure, as it is more perceivable in programming, we can classify data structures into linear and non-linear based.\n",
    "\n",
    "**Linear data structures** are characterised by a sequential relationship between data elements. **Non-linear data structures** have a non-sequential relationship between data elements."
   ]
  },
  {
   "cell_type": "markdown",
   "metadata": {
    "slideshow": {
     "slide_type": "slide"
    }
   },
   "source": [
    "## Basic Data Structures\n",
    "\n",
    "Any type of Data structures can be implemented by Array and/or Linked List.\n",
    "\n",
    "### Array\n",
    "\n",
    "**Array** represents a collection of elements of the same data type that are stored in contiguous memory locations. The elements are stored in consecutive memory locations. Once Arrays are initialised, they canot be resized. It is also called \"Static data structure\".\n",
    "\n",
    "**Array** can be further divided into one-dimensional and two-dimensional structures. Two-demensional **Array** is called **Matrix**.\n",
    "\n",
    "### Linked List\n",
    "\n",
    "**Linked List** collects elements by pointers. As elements are stored in non-contiguous memory locations, which can be allocated dynamically as long as there are free available space, it is called \"Danamic data structure\"."
   ]
  },
  {
   "cell_type": "markdown",
   "metadata": {
    "slideshow": {
     "slide_type": "slide"
    }
   },
   "source": [
    "## Advanced Data Structures\n",
    "\n",
    "### List\n",
    "\n",
    "A **List** is a common linear data structure. It is pretty similar to **Array** due to the sequential relationship between elements. Unlike **Array**, in most programming language, **List** can be extended automatically. The underline basic structure can be either **Array**, new extended **Array** may be created behind the scene to replace the existing **Array** when needed, or **Linked List** that supports expansion naturally.\n",
    "\n",
    "Common variants of **List**:\n",
    "- **Queue**: a linear data structure that follows the First-In, First-Out (FIFO) rule. As the name suggests, a queue simulates the phenomenon of lining up, where newcomers join the back of the queue, and people at the front of the queue leave one by one.\n",
    "- **Stack**: a linear data structure that follows the principle of Last-In, First-Out (LIFO).\n",
    "\n",
    "Let's explore Python **Lists** with some code examples."
   ]
  },
  {
   "cell_type": "code",
   "execution_count": null,
   "metadata": {
    "slideshow": {
     "slide_type": "slide"
    }
   },
   "outputs": [],
   "source": [
    "'''\n",
    "Here's a sample code that explores some built-in functions for lists\n",
    "'''\n",
    "# Create a list of fruits\n",
    "fruits = [\"apple\", \"banana\", \"orange\", \"mango\"]\n",
    "\n",
    "# Print the list\n",
    "print(\"Our fruits:\", fruits)\n",
    "\n",
    "# Add a new fruit (append)\n",
    "fruits.append(\"kiwi\")\n",
    "print(\"Added kiwi:\", fruits)\n",
    "\n",
    "# Insert \"cherry\" at index 1\n",
    "fruits.insert(1, \"cherry\")\n",
    "print(\"After insert:\", fruits)\n",
    "\n",
    "# Check how many fruits (len)\n",
    "num_fruits = len(fruits)\n",
    "print(\"Total fruits:\", num_fruits)\n",
    "\n",
    "# Access a specific fruit (index)\n",
    "first_fruit = fruits[0]  # Indexing starts from 0\n",
    "print(\"First fruit:\", first_fruit)\n",
    "\n",
    "# Find the position of a fruit (index)\n",
    "mango_index = fruits.index(\"mango\")\n",
    "print(\"Mango is at position:\", mango_index)\n",
    "\n",
    "# Create a copy of a list\n",
    "fruits_copy = fruits.copy()\n",
    "\n",
    "# Remove a fruit (remove)\n",
    "fruits.remove(\"banana\")\n",
    "print(\"Removed banana:\", fruits)\n",
    "\n",
    "# Copied list differs to the origin one\n",
    "print(\"Original:\", fruits)\n",
    "print(\"Copy:\", fruits_copy)\n",
    "\n",
    "# Check if a fruit exists (in)\n",
    "is_grape_here = \"grape\" in fruits\n",
    "print(\"Is grape in the list:\", is_grape_here)\n",
    "\n",
    "# Count occurrences of an element (count):\n",
    "apple_count = fruits.count(\"apple\")\n",
    "print(\"Number of apples:\", apple_count)\n",
    "\n",
    "while \"apple\" in fruits:\n",
    "  fruits.remove(\"apple\")  # Loop to remove all apples\n",
    "print(\"Fruits after removing all apples:\", fruits)\n",
    "\n",
    "# Sort the list alphabetically (sort)\n",
    "fruits.sort()\n",
    "print(\"Fruits sorted:\", fruits)\n",
    "\n",
    "# Reverse the order (reverse)\n",
    "fruits.reverse()\n",
    "print(\"Fruits reversed:\", fruits)\n",
    "\n",
    "# Remove and return the last element\n",
    "last_fruit = fruits.pop()\n",
    "print(\"Removed last fruit:\", last_fruit)\n",
    "\n",
    "# Concatenate lists ( + )\n",
    "veggies = [\"broccoli\", \"carrot\"]\n",
    "all_items = fruits + veggies\n",
    "print(\"Combined list:\", all_items)\n",
    "\n",
    "# Add elements from another list (extend)\n",
    "fruits.extend(veggies)\n",
    "print(\"Fruits after extend:\", fruits)\n",
    "\n",
    "# Clear the entire list (clear) - be careful!\n",
    "fruits.clear()\n",
    "print(\"Fruits after clear:\", fruits)"
   ]
  },
  {
   "cell_type": "markdown",
   "metadata": {
    "slideshow": {
     "slide_type": "slide"
    }
   },
   "source": [
    "**Slicing** is a powerful feature in Python that allows you to extract a sub-section of a list without modifying the original list. Here's a breakdown with examples:\n",
    "\n",
    "**Syntax**\n",
    "\n",
    "    new_list = original_list[start:end:step]\n",
    "\n",
    "\n",
    "- `start`: This is the index of the element where the slice begins (inclusive). Defaults to 0 (beginning of the list) if omitted.\n",
    "- `end`: This is the index of the element where the slice ends (exclusive). It means the element at this index won't be included in the new list. Defaults to the length of the list if omitted.\n",
    "- `step`: This is optional and specifies the step size for including elements. Defaults to 1 (includes every element).\n",
    "\n",
    "**Examples**\n",
    "\n",
    "Let's go back to `fruits` list and **slice** them."
   ]
  },
  {
   "cell_type": "code",
   "execution_count": null,
   "metadata": {
    "slideshow": {
     "slide_type": "slide"
    }
   },
   "outputs": [],
   "source": [
    "fruits = [\"apple\", \"banana\", \"orange\", \"mango\"]\n",
    "# Get a sub-section: elements from index 1 (inclusive) to 3 (exclusive)\n",
    "sub_list = fruits[1:3]\n",
    "print(\"Sublist:\", sub_list)  # Output: [\"banana\", \"orange\"]\n",
    "\n",
    "# Get everything from the beginning (omitted) to a specific index 2 (exclusive)\n",
    "first_fruits = fruits[:2]\n",
    "print(\"First two fruits:\", first_fruits)  # Output: [\"apple\", \"banana\"]\n",
    "\n",
    "# Get elements from index 1 (inclusive) to the end (ommited)\n",
    "last_fruits = fruits[1:]\n",
    "print(\"Fruits from second position:\", last_fruits)  # Output: [\"banana\", \"orange\", \"mango\"]\n",
    "\n",
    "# Get elements in reverse order (start from end, step of -1)\n",
    "reversed_fruits = fruits[::-1]\n",
    "print(\"Reversed fruits:\", reversed_fruits)  # Output: [\"mango\", \"orange\", \"banana\", \"apple\"]\n",
    "\n",
    "# Get every other element (step of 2):\n",
    "alternate_fruits = fruits[::2]\n",
    "print(\"Every other fruit:\", alternate_fruits)  # Output: [\"apple\", \"orange\"]\n",
    "\n",
    "# slicing creates a new list without modifying the original one\n",
    "print(\"Original fruits: \", fruits)"
   ]
  },
  {
   "cell_type": "markdown",
   "metadata": {
    "slideshow": {
     "slide_type": "slide"
    }
   },
   "source": [
    "While Python doesn't have built-in two-dimensional arrays, you can effectively represent them using nested lists. Here's an example of doing that."
   ]
  },
  {
   "cell_type": "code",
   "execution_count": null,
   "metadata": {
    "slideshow": {
     "slide_type": "subslide"
    }
   },
   "outputs": [],
   "source": [
    "# Represent spreadsheet data with rows and columns\n",
    "data = [\n",
    "    [\"Name\", \"Age\", \"City\"],\n",
    "    [\"Alice\", 30, \"New York\"],\n",
    "    [\"Bob\", 25, \"London\"]\n",
    "]\n",
    "\n",
    "# Access specific data point\n",
    "name = data[1][0]  # Get the name from the second row (index 1), first column (index 0)\n",
    "\n",
    "# Loop through rows and columns to access all data\n",
    "for row in data:\n",
    "  for item in row:\n",
    "    print(item, end=\" \")  # Print each data point with space\n",
    "  print()  # Print a newline after each row\n"
   ]
  },
  {
   "cell_type": "markdown",
   "metadata": {},
   "source": [
    "### Hash Table\n",
    "\n",
    "A **Hash Table** is an associative array that implements a key-value storage mechanism. It uses a hash function to map unique keys to their corresponding values. We cannot put two elements which share the same key in the collection.\n",
    "\n",
    "A **Set** is a special **Hash Table** where only key exists and no value is required.\n",
    "\n",
    "The underline data structure implementing **Hash Table** might be either **Array** or **Linked List**, or both.\n"
   ]
  },
  {
   "cell_type": "markdown",
   "metadata": {},
   "source": [
    "### Tree\n",
    "\n",
    "**Tree** is a hierarchical data structure that consists of nodes and edges. The nodes are stored in non-contiguous memory locations and are linked together using pointers. A **Tree** has one and only one root node.\n",
    "\n",
    "Based on how many branches each node can have, **Trees** can be further divided into binary trees and general trees.\n",
    "\n",
    "- **Binary trees** have at most two child nodes for each parent node. There is also a special **Binary tree** called **Heap**, which is complete and ordered.\n",
    "\n",
    "- **General trees** can have any number of child nodes for each parent node.\n",
    "\n",
    "**Tree** data structures are commonly implemented using **Linked List**. But, there are applications of **Array** as well which provides better performance in some cases.\n"
   ]
  },
  {
   "cell_type": "markdown",
   "metadata": {},
   "source": [
    "### Graph\n",
    "**Graph**, also known as network-like structures, are characterized by a non-hierarchical relationship between data elements. They can be further divided into directed graphs and undirected graphs.\n",
    "\n",
    "- **Directed graphs** have edges with a specific direction.\n",
    "\n",
    "- **Undirected graphs** have edges without a specific direction."
   ]
  },
  {
   "cell_type": "markdown",
   "metadata": {},
   "source": [
    "\n",
    "[Built-in Data sructures illustration in Python](https://pythontutor.com/render.html#code=class%20ListNode%3A%0A%20%20%20%20%22%22%22linked%20list%20node%20class%20for%20integer%22%22%22%0A%20%20%20%20def%20__init__%28self,%20val%3A%20int%29%3A%0A%20%20%20%20%20%20%20%20self.val%3A%20int%20%3D%20val%20%20%23%20node%20integer%20value%0A%20%20%20%20%20%20%20%20self.next%3A%20ListNode%20%7C%20None%20%3D%20None%20%20%23%20reference%20to%20the%20next%20node,%20default%20to%20None%0A%0A%22%22%22Driver%20Code%22%22%22%0Aif%20__name__%20%3D%3D%20%22__main__%22%3A%0A%20%20%20%20%23%20list%20is%20an%20ordered%20mutable%20sequences%20of%20elements%0A%20%20%20%20numbers%20%3D%20%5B1,%202,%203,%204,%205%5D%0A%20%20%20%20%23%20each%20element%20in%20a%20list%20can%20have%20different%20types,%20even%20a%20custom%20class%0A%20%20%20%20data%20%3D%20%5B0,%200.0,%20'a',%20False,%20ListNode%280%29%5D%0A%20%20%20%20%23%20a%20boolean%20list%20with%20default%20False%20value%0A%20%20%20%20bools%20%3D%20%5BFalse%5D%20*%205%0A%20%20%20%20%23%20tuple%20is%20also%20an%20ordered%20list%20but%20immutable,%20meaning%20once%20created,%20you%20cannot%20modify%20their%20contents%0A%20%20%20%20myTuple%20%3D%20%28'debug%20code',%20'step-by-step!'%29%0A%20%20%20%20%23%20set%20is%20unordered%20collections%20of%20unique%20elements%0A%20%20%20%20unique_numbers%20%3D%20%7B1,%202,%202,%203,%203%7D%20%20%23%20Duplicates%20will%20be%20removed%0A%20%20%20%20%23%20dictionary%20represents%20unordered%20collections%20of%20key-value%20pairs%0A%20%20%20%20person%20%3D%20%7B%22name%22%3A%20%22Alice%22,%20%22age%22%3A%2030,%20%22city%22%3A%20%22New%20York%22%7D&cumulative=false&curInstr=12&heapPrimitives=nevernest&mode=display&origin=opt-frontend.js&py=3&rawInputLstJSON=%5B%5D&textReferences=false)\n",
    "\n",
    "\n",
    "<iframe width=\"800\" height=\"500\" frameborder=\"0\" src=\"https://pythontutor.com/iframe-embed.html#code=class%20ListNode%3A%0A%20%20%20%20%22%22%22linked%20list%20node%20class%20for%20integer%22%22%22%0A%20%20%20%20def%20__init__%28self,%20val%3A%20int%29%3A%0A%20%20%20%20%20%20%20%20self.val%3A%20int%20%3D%20val%20%20%23%20node%20integer%20value%0A%20%20%20%20%20%20%20%20self.next%3A%20ListNode%20%7C%20None%20%3D%20None%20%20%23%20reference%20to%20the%20next%20node,%20default%20to%20None%0A%0A%22%22%22Driver%20Code%22%22%22%0Aif%20__name__%20%3D%3D%20%22__main__%22%3A%0A%20%20%20%20%23%20list%20is%20an%20ordered%20mutable%20sequences%20of%20elements%0A%20%20%20%20numbers%20%3D%20%5B1,%202,%203,%204,%205%5D%0A%20%20%20%20%23%20each%20element%20in%20a%20list%20can%20have%20different%20types,%20even%20a%20custom%20class%0A%20%20%20%20data%20%3D%20%5B0,%200.0,%20'a',%20False,%20ListNode%280%29%5D%0A%20%20%20%20%23%20a%20boolean%20list%20with%20default%20False%20value%0A%20%20%20%20bools%20%3D%20%5BFalse%5D%20*%205%0A%20%20%20%20%23%20tuple%20is%20also%20an%20ordered%20list%20but%20immutable,%20meaning%20once%20created,%20you%20cannot%20modify%20their%20contents%0A%20%20%20%20myTuple%20%3D%20%28'debug%20code',%20'step-by-step!'%29%0A%20%20%20%20%23%20set%20is%20unordered%20collections%20of%20unique%20elements%0A%20%20%20%20unique_numbers%20%3D%20%7B1,%202,%202,%203,%203%7D%20%20%23%20Duplicates%20will%20be%20removed%0A%20%20%20%20%23%20dictionary%20represents%20unordered%20collections%20of%20key-value%20pairs%0A%20%20%20%20person%20%3D%20%7B%22name%22%3A%20%22Alice%22,%20%22age%22%3A%2030,%20%22city%22%3A%20%22New%20York%22%7D&codeDivHeight=400&codeDivWidth=350&cumulative=false&curInstr=12&heapPrimitives=nevernest&origin=opt-frontend.js&py=3&rawInputLstJSON=%5B%5D&textReferences=false\"> </iframe>"
   ]
  }
 ],
 "metadata": {
  "kernelspec": {
   "display_name": "Python 3",
   "language": "python",
   "name": "python3"
  },
  "language_info": {
   "codemirror_mode": {
    "name": "ipython",
    "version": 3
   },
   "file_extension": ".py",
   "mimetype": "text/x-python",
   "name": "python",
   "nbconvert_exporter": "python",
   "pygments_lexer": "ipython3",
   "version": "3.10.13"
  }
 },
 "nbformat": 4,
 "nbformat_minor": 2
}
