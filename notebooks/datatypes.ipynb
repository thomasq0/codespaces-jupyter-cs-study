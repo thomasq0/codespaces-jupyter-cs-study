{
 "cells": [
  {
   "cell_type": "markdown",
   "metadata": {},
   "source": [
    "# Basic Data Types\n",
    "Here's a table of basic data types commonly found in modern programming languages like Python:\n",
    "| Data Type | Description | Example |\n",
    "|---|---|---|\n",
    "| Integer | Whole numbers, positive, negative, or zero. | 42, -10, 0 |\n",
    "| Floating-point | Numbers with decimal points for representing real numbers (approximations). | 3.14, -9.81, 1.23e-5 (scientific notation) |\n",
    "| Boolean | Logical values, True or False. | True, False |\n",
    "| Character | Single character (letter, number, symbol). | 'a', '!', '$' |\n",
    "| String | Sequence of characters, representing text. | \"Hello, world!\", \"This is a string.\", 'A string can also contain quotes' |\n"
   ]
  },
  {
   "cell_type": "code",
   "execution_count": null,
   "metadata": {},
   "outputs": [],
   "source": [
    "# Integer\n",
    "age = 30\n",
    "print(f\"My age is: {age}\")  # f-string for formatted printing\n",
    "\n",
    "# Floating-point\n",
    "pi = 3.14159\n",
    "distance = 1.23e2  # scientific notation for 123.0\n",
    "\n",
    "print(f\"Pi value: {pi:.4f}\")  # format to show 4 decimal places\n",
    "print(f\"Distance: {distance} km\")\n",
    "\n",
    "# Boolean\n",
    "is_raining = True\n",
    "print(f\"Is it raining? {is_raining}\")\n",
    "\n",
    "# Character\n",
    "initial = 'A'\n",
    "special_char = '$'\n",
    "\n",
    "print(f\"My initial: {initial}\")\n",
    "print(f\"Special character: {special_char}\")\n",
    "\n",
    "# String\n",
    "name = \"Bard\"\n",
    "greeting = \"Hello, \" + name + \"!\"  # String concatenation\n",
    "\n",
    "print(f\"Your name: {name}\")\n",
    "print(greeting)\n"
   ]
  },
  {
   "cell_type": "markdown",
   "metadata": {},
   "source": [
    "**Note**:\n",
    "\n",
    "The `f` in the `print()` function signifies a formatted string literal (f-string), a way to embed expressions directly inside strings introduced in Python 3.6.\n",
    "\n",
    "Here's how f-strings work:\n",
    "\n",
    "- An f-string is prefixed with `f` or `F` before the opening quotation mark.\n",
    "- You can place curly braces `{}` within the string to insert expressions or variables.\n",
    "- Python evaluates the expressions inside the curly braces and integrates them into the final string.\n",
    "\n",
    "In Python, the integer type `int` can be of any size, limited only by the available memory. The floating point type `float` is double precision 64-bit. There is no `char` type, a single character is actually a string `str` of length 1."
   ]
  },
  {
   "cell_type": "markdown",
   "metadata": {},
   "source": [
    "# Data Structures\n",
    "Data structures can be classified from two perspectives: logical structure and physical structure.\n",
    "\n",
    "- **Logical structure** describes the logical relationships between data elements. It focuses on how the data is organized and how it can be accessed.\n",
    "\n",
    "- **Physical structure** describes how data is stored in computer memory. It focuses on the physical layout of data and how it is stored on a storage device.\n",
    "\n",
    "If we focus on perspective of logical structure, as it is more perceivable in programming, we can classify data structures into linear and non-linear based.\n",
    "\n",
    "**Linear data structures** are characterised by a sequential relationship between data elements. **Non-linear data structures** have a non-sequential relationship between data elements.\n",
    "\n",
    "## Basic Data Structures\n",
    "Any type of Data structures can be implemented by Array and/or Linked List.\n",
    "### Array\n",
    "**Array** represents a collection of elements of the same data type that are stored in contiguous memory locations. The elements are stored in consecutive memory locations. Once Arrays are initialised, they canot be resized. It is also called \"Static data structure\".\n",
    "\n",
    "**Array** can be further divided into one-dimensional and two-dimensional structures. Two-demensional **Array** is called **Matrix**.\n",
    "\n",
    "### Linked List\n",
    "**Linked List** collects elements by pointers. As elements are stored in non-contiguous memory locations, which can be allocated dynamically as long as there are free available space, it is called \"Danamic data structure\".\n",
    "\n",
    "## Advanced Data Structures\n",
    "### List\n",
    "A **List** is a common linear data structure. It is pretty similar to **Array** due to the sequential relationship between elements. Unlike **Array**, in most programming language, **List** can be extended automatically. The underline basic structure can be either **Array**, new extended **Array** may be created behind the scene to replace the existing **Array** when needed, or **Linked List** that supports expansion naturally.\n",
    "\n",
    "Common variants of **List**:\n",
    "- **Queue**: a linear data structure that follows the First-In, First-Out (FIFO) rule. As the name suggests, a queue simulates the phenomenon of lining up, where newcomers join the back of the queue, and people at the front of the queue leave one by one.\n",
    "- **Stack**: a linear data structure that follows the principle of Last-In, First-Out (LIFO).\n",
    "\n",
    "### Hash Table\n",
    "A **Hash Table** is an associative array that implements a key-value storage mechanism. It uses a hash function to map unique keys to their corresponding values. We cannot put two elements which share the same key in the collection.\n",
    "\n",
    "A **Set** is a special **Hash Table** where only key exists and no value is required.\n",
    "\n",
    "The underline data structure implementing **Hash Table** might be either **Array** or **Linked List**, or both.\n",
    "\n",
    "### Tree\n",
    "**Tree** is a hierarchical data structure that consists of nodes and edges. The nodes are stored in non-contiguous memory locations and are linked together using pointers. A **Tree** has one and only one root node.\n",
    "\n",
    "Based on how many branches each node can have, **Trees** can be further divided into binary trees and general trees.\n",
    "\n",
    "- **Binary trees** have at most two child nodes for each parent node. There is also a special **Binary tree** called **Heap**, which is complete and ordered.\n",
    "\n",
    "- **General trees** can have any number of child nodes for each parent node.\n",
    "\n",
    "**Tree** data structures are commonly implemented using **Linked List**. But, there are applications of **Array** as well which provides better performance in some cases.\n",
    "\n",
    "### Graph\n",
    "**Graph**, also known as network-like structures, are characterized by a non-hierarchical relationship between data elements. They can be further divided into directed graphs and undirected graphs.\n",
    "\n",
    "- **Directed graphs** have edges with a specific direction.\n",
    "\n",
    "- **Undirected graphs** have edges without a specific direction."
   ]
  },
  {
   "cell_type": "markdown",
   "metadata": {},
   "source": [
    "\n",
    "[Built-in Data sructures illustration in Python](https://pythontutor.com/render.html#code=class%20ListNode%3A%0A%20%20%20%20%22%22%22linked%20list%20node%20class%20for%20integer%22%22%22%0A%20%20%20%20def%20__init__%28self,%20val%3A%20int%29%3A%0A%20%20%20%20%20%20%20%20self.val%3A%20int%20%3D%20val%20%20%23%20node%20integer%20value%0A%20%20%20%20%20%20%20%20self.next%3A%20ListNode%20%7C%20None%20%3D%20None%20%20%23%20reference%20to%20the%20next%20node,%20default%20to%20None%0A%0A%22%22%22Driver%20Code%22%22%22%0Aif%20__name__%20%3D%3D%20%22__main__%22%3A%0A%20%20%20%20%23%20list%20is%20an%20ordered%20mutable%20sequences%20of%20elements%0A%20%20%20%20numbers%20%3D%20%5B1,%202,%203,%204,%205%5D%0A%20%20%20%20%23%20each%20element%20in%20a%20list%20can%20have%20different%20types,%20even%20a%20custom%20class%0A%20%20%20%20data%20%3D%20%5B0,%200.0,%20'a',%20False,%20ListNode%280%29%5D%0A%20%20%20%20%23%20a%20boolean%20list%20with%20default%20False%20value%0A%20%20%20%20bools%20%3D%20%5BFalse%5D%20*%205%0A%20%20%20%20%23%20tuple%20is%20also%20an%20ordered%20list%20but%20immutable,%20meaning%20once%20created,%20you%20cannot%20modify%20their%20contents%0A%20%20%20%20myTuple%20%3D%20%28'debug%20code',%20'step-by-step!'%29%0A%20%20%20%20%23%20set%20is%20unordered%20collections%20of%20unique%20elements%0A%20%20%20%20unique_numbers%20%3D%20%7B1,%202,%202,%203,%203%7D%20%20%23%20Duplicates%20will%20be%20removed%0A%20%20%20%20%23%20dictionary%20represents%20unordered%20collections%20of%20key-value%20pairs%0A%20%20%20%20person%20%3D%20%7B%22name%22%3A%20%22Alice%22,%20%22age%22%3A%2030,%20%22city%22%3A%20%22New%20York%22%7D&cumulative=false&curInstr=12&heapPrimitives=nevernest&mode=display&origin=opt-frontend.js&py=3&rawInputLstJSON=%5B%5D&textReferences=false)\n",
    "\n",
    "\n",
    "<iframe width=\"800\" height=\"500\" frameborder=\"0\" src=\"https://pythontutor.com/iframe-embed.html#code=class%20ListNode%3A%0A%20%20%20%20%22%22%22linked%20list%20node%20class%20for%20integer%22%22%22%0A%20%20%20%20def%20__init__%28self,%20val%3A%20int%29%3A%0A%20%20%20%20%20%20%20%20self.val%3A%20int%20%3D%20val%20%20%23%20node%20integer%20value%0A%20%20%20%20%20%20%20%20self.next%3A%20ListNode%20%7C%20None%20%3D%20None%20%20%23%20reference%20to%20the%20next%20node,%20default%20to%20None%0A%0A%22%22%22Driver%20Code%22%22%22%0Aif%20__name__%20%3D%3D%20%22__main__%22%3A%0A%20%20%20%20%23%20list%20is%20an%20ordered%20mutable%20sequences%20of%20elements%0A%20%20%20%20numbers%20%3D%20%5B1,%202,%203,%204,%205%5D%0A%20%20%20%20%23%20each%20element%20in%20a%20list%20can%20have%20different%20types,%20even%20a%20custom%20class%0A%20%20%20%20data%20%3D%20%5B0,%200.0,%20'a',%20False,%20ListNode%280%29%5D%0A%20%20%20%20%23%20a%20boolean%20list%20with%20default%20False%20value%0A%20%20%20%20bools%20%3D%20%5BFalse%5D%20*%205%0A%20%20%20%20%23%20tuple%20is%20also%20an%20ordered%20list%20but%20immutable,%20meaning%20once%20created,%20you%20cannot%20modify%20their%20contents%0A%20%20%20%20myTuple%20%3D%20%28'debug%20code',%20'step-by-step!'%29%0A%20%20%20%20%23%20set%20is%20unordered%20collections%20of%20unique%20elements%0A%20%20%20%20unique_numbers%20%3D%20%7B1,%202,%202,%203,%203%7D%20%20%23%20Duplicates%20will%20be%20removed%0A%20%20%20%20%23%20dictionary%20represents%20unordered%20collections%20of%20key-value%20pairs%0A%20%20%20%20person%20%3D%20%7B%22name%22%3A%20%22Alice%22,%20%22age%22%3A%2030,%20%22city%22%3A%20%22New%20York%22%7D&codeDivHeight=400&codeDivWidth=350&cumulative=false&curInstr=12&heapPrimitives=nevernest&origin=opt-frontend.js&py=3&rawInputLstJSON=%5B%5D&textReferences=false\"> </iframe>"
   ]
  }
 ],
 "metadata": {
  "kernelspec": {
   "display_name": "Python 3",
   "language": "python",
   "name": "python3"
  },
  "language_info": {
   "codemirror_mode": {
    "name": "ipython",
    "version": 3
   },
   "file_extension": ".py",
   "mimetype": "text/x-python",
   "name": "python",
   "nbconvert_exporter": "python",
   "pygments_lexer": "ipython3",
   "version": "3.10.13"
  }
 },
 "nbformat": 4,
 "nbformat_minor": 2
}
