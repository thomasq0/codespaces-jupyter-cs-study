{
 "cells": [
  {
   "cell_type": "markdown",
   "metadata": {},
   "source": [
    "# Programming practice: bits and bytes"
   ]
  },
  {
   "cell_type": "markdown",
   "metadata": {},
   "source": [
    "## Get to know Jupyter Notebook\n",
    "\n",
    "According to https://jupyter-notebook-beginner-guide.readthedocs.io/en/latest/what_is_jupyter.html\n",
    "\n",
    "> Notebook documents (or “notebooks”, all lower case) are documents produced by the Jupyter Notebook App, which contain both computer code (e.g. python) and rich text elements (paragraph, equations, figures, links, etc…). Notebook documents are both human-readable documents containing the analysis description and the results (figures, tables, etc..) as well as executable documents which can be run to perform data analysis.\n",
    "\n",
    "> The Jupyter Notebook App is a server-client application that allows editing and running notebook documents via a web browser.\n",
    "\n",
    "> A notebook kernel is a “computational engine” that executes the code contained in a Notebook document.\n",
    "\n",
    "Let's see an example of a code cell that can be run."
   ]
  },
  {
   "cell_type": "code",
   "execution_count": null,
   "metadata": {},
   "outputs": [],
   "source": [
    "# define a function\n",
    "def factorial(n: int) -> int:\n",
    "    if n == 0:\n",
    "        return 1\n",
    "    else:\n",
    "        return n * factorial(n-1)"
   ]
  },
  {
   "cell_type": "code",
   "execution_count": null,
   "metadata": {},
   "outputs": [],
   "source": [
    "# let's call this function to do actual work: give me the result of 5!\n",
    "factorial(5)"
   ]
  },
  {
   "cell_type": "markdown",
   "metadata": {},
   "source": [
    "## Practice 1\n",
    "Convert a decimal to a binary representation.\n",
    "\n",
    "For example, `27` becomes `11011`, `114` becomese `1110010`."
   ]
  },
  {
   "cell_type": "code",
   "execution_count": null,
   "metadata": {},
   "outputs": [],
   "source": [
    "def findHighestPower(n: int) -> int:\n",
    "    power = 1 # 2**0\n",
    "    while power * 2 <= n:\n",
    "        power = power * 2\n",
    "    return power\n",
    "\n",
    "print(\"27 highest power is {}\".format(findHighestPower(27)))"
   ]
  },
  {
   "cell_type": "code",
   "execution_count": null,
   "metadata": {},
   "outputs": [],
   "source": [
    "# define a function to do the conversion\n",
    "def tobin(n: int) -> str:\n",
    "    power = findHighestPower(n)\n",
    "    bits = []\n",
    "    while power > 0:\n",
    "        if n >= power:\n",
    "            # append '1' into the list\n",
    "            bits.append(1)\n",
    "            n = n - power\n",
    "        else:\n",
    "            bits.append(0)\n",
    "        power = power // 2\n",
    "    return ''.join(map(str, bits)) # for each bit in bits, transform to (str)bit\n",
    "\n",
    "# convert number 27\n",
    "print(\"27 is {} in binary\".format(tobin(27)))\n",
    "\n",
    "# convert number 114\n",
    "print(\"114 is {} in binary\".format(tobin(114)))"
   ]
  },
  {
   "cell_type": "code",
   "execution_count": null,
   "metadata": {},
   "outputs": [],
   "source": [
    "seq = [1, 2, 3, 4, 5]\n",
    "print(seq)\n",
    "print(seq[::-1])\n",
    "\n",
    "def tobin2(n: int) -> str:\n",
    "    bits = []\n",
    "    while n: # condition/boolean 1: true, 0: false\n",
    "        bits.append(n % 2)\n",
    "        n //= 2\n",
    "    return ''.join(map(str, bits[::-1]))\n",
    "\n",
    "print(tobin2(27))\n",
    "print(tobin2(114))\n",
    "print(13/3)\n",
    "print(13//2) # floor vs ceiling"
   ]
  },
  {
   "cell_type": "markdown",
   "metadata": {},
   "source": [
    "# Practice 2\n",
    "Convert a binary number to a decimal representation.\n",
    "\n",
    "For example, `10100` becomes `20`."
   ]
  },
  {
   "cell_type": "code",
   "execution_count": null,
   "metadata": {},
   "outputs": [],
   "source": [
    "def todecimal(binary: str) -> int:\n",
    "    result = 0\n",
    "    place = 0\n",
    "    for bit in binary[::-1]:\n",
    "        if bit == '1':\n",
    "            result = result + 2 ** place\n",
    "        place = place + 1\n",
    "    return result\n",
    "\n",
    "print(todecimal('10100'))\n",
    "print(todecimal('1110010'))"
   ]
  }
 ],
 "metadata": {
  "kernelspec": {
   "display_name": "Python 3",
   "language": "python",
   "name": "python3"
  },
  "language_info": {
   "codemirror_mode": {
    "name": "ipython",
    "version": 3
   },
   "file_extension": ".py",
   "mimetype": "text/x-python",
   "name": "python",
   "nbconvert_exporter": "python",
   "pygments_lexer": "ipython3",
   "version": "3.10.13"
  }
 },
 "nbformat": 4,
 "nbformat_minor": 2
}
