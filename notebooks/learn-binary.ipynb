{
 "cells": [
  {
   "cell_type": "markdown",
   "metadata": {},
   "source": [
    "# Programming practice: bits and bytes"
   ]
  },
  {
   "cell_type": "markdown",
   "metadata": {},
   "source": [
    "## Get to know Jupyter Notebook\n",
    "\n",
    "According to https://jupyter-notebook-beginner-guide.readthedocs.io/en/latest/what_is_jupyter.html\n",
    "\n",
    "> Notebook documents (or “notebooks”, all lower case) are documents produced by the Jupyter Notebook App, which contain both computer code (e.g. python) and rich text elements (paragraph, equations, figures, links, etc…). Notebook documents are both human-readable documents containing the analysis description and the results (figures, tables, etc..) as well as executable documents which can be run to perform data analysis.\n",
    "\n",
    "> The Jupyter Notebook App is a server-client application that allows editing and running notebook documents via a web browser.\n",
    "\n",
    "> A notebook kernel is a “computational engine” that executes the code contained in a Notebook document.\n",
    "\n",
    "Let's see an example of a code cell that can be run."
   ]
  },
  {
   "cell_type": "code",
   "execution_count": 4,
   "metadata": {},
   "outputs": [],
   "source": [
    "# define a function\n",
    "def factorial(n: int) -> int:\n",
    "    if n == 0:\n",
    "        return 1\n",
    "    else:\n",
    "        return n * factorial(n-1)"
   ]
  },
  {
   "cell_type": "code",
   "execution_count": 5,
   "metadata": {},
   "outputs": [
    {
     "data": {
      "text/plain": [
       "120"
      ]
     },
     "execution_count": 5,
     "metadata": {},
     "output_type": "execute_result"
    }
   ],
   "source": [
    "# let's call this function to do actual work: give me the result of 5!\n",
    "factorial(5)"
   ]
  },
  {
   "cell_type": "markdown",
   "metadata": {},
   "source": [
    "## Quiz 1\n",
    "Convert a decimal to a binary representation.\n",
    "\n",
    "For example, `27` becomes `11011`, `114` becomese `1110010`."
   ]
  },
  {
   "cell_type": "code",
   "execution_count": 7,
   "metadata": {},
   "outputs": [
    {
     "name": "stdout",
     "output_type": "stream",
     "text": [
      "27 is 11011 in binary\n",
      "114 is 11011 in binary\n"
     ]
    }
   ],
   "source": [
    "# define a function to do the conversion\n",
    "def tobin(n: int) -> str:\n",
    "    return '11011'\n",
    "\n",
    "# convert number 27\n",
    "print(\"27 is {} in binary\".format(tobin(27)))\n",
    "\n",
    "# convert number 114\n",
    "print(\"114 is {} in binary\".format(tobin(114)))"
   ]
  },
  {
   "cell_type": "markdown",
   "metadata": {},
   "source": [
    "# Quiz 2\n",
    "Convert a binary number to a decimal representation.\n",
    "\n",
    "For example, `10100` becomes `20`."
   ]
  }
 ],
 "metadata": {
  "kernelspec": {
   "display_name": "Python 3",
   "language": "python",
   "name": "python3"
  },
  "language_info": {
   "codemirror_mode": {
    "name": "ipython",
    "version": 3
   },
   "file_extension": ".py",
   "mimetype": "text/x-python",
   "name": "python",
   "nbconvert_exporter": "python",
   "pygments_lexer": "ipython3",
   "version": "3.10.13"
  }
 },
 "nbformat": 4,
 "nbformat_minor": 2
}
